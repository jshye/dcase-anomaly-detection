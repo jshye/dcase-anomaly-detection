{
 "cells": [
  {
   "cell_type": "code",
   "execution_count": 1,
   "metadata": {},
   "outputs": [],
   "source": [
    "from torchinfo import summary\n",
    "from ganomaly_model import *"
   ]
  },
  {
   "cell_type": "code",
   "execution_count": 2,
   "metadata": {},
   "outputs": [],
   "source": [
    "encoder = Encoder(\n",
    "    input_size=(128,313),\n",
    "    latent_vec_size=100,\n",
    "    num_input_channels=1,\n",
    "    n_features=64,\n",
    "    extra_layers=0,\n",
    "    add_final_conv_layer=True,\n",
    ")"
   ]
  },
  {
   "cell_type": "code",
   "execution_count": 3,
   "metadata": {},
   "outputs": [
    {
     "data": {
      "text/plain": [
       "==========================================================================================\n",
       "Layer (type:depth-idx)                   Output Shape              Param #\n",
       "==========================================================================================\n",
       "Encoder                                  [1, 100, 1, 6]            --\n",
       "├─Sequential: 1-1                        [1, 64, 67, 159]          --\n",
       "│    └─Conv2d: 2-1                       [1, 64, 67, 159]          1,024\n",
       "│    └─LeakyReLU: 2-2                    [1, 64, 67, 159]          --\n",
       "├─Sequential: 1-2                        [1, 64, 67, 159]          --\n",
       "├─Sequential: 1-3                        [1, 1024, 4, 9]           --\n",
       "│    └─Conv2d: 2-3                       [1, 128, 33, 79]          131,072\n",
       "│    └─BatchNorm2d: 2-4                  [1, 128, 33, 79]          256\n",
       "│    └─LeakyReLU: 2-5                    [1, 128, 33, 79]          --\n",
       "│    └─Conv2d: 2-6                       [1, 256, 16, 39]          524,288\n",
       "│    └─BatchNorm2d: 2-7                  [1, 256, 16, 39]          512\n",
       "│    └─LeakyReLU: 2-8                    [1, 256, 16, 39]          --\n",
       "│    └─Conv2d: 2-9                       [1, 512, 8, 19]           2,097,152\n",
       "│    └─BatchNorm2d: 2-10                 [1, 512, 8, 19]           1,024\n",
       "│    └─LeakyReLU: 2-11                   [1, 512, 8, 19]           --\n",
       "│    └─Conv2d: 2-12                      [1, 1024, 4, 9]           8,388,608\n",
       "│    └─BatchNorm2d: 2-13                 [1, 1024, 4, 9]           2,048\n",
       "│    └─LeakyReLU: 2-14                   [1, 1024, 4, 9]           --\n",
       "├─Conv2d: 1-4                            [1, 100, 1, 6]            1,638,400\n",
       "==========================================================================================\n",
       "Total params: 12,784,384\n",
       "Trainable params: 12,784,384\n",
       "Non-trainable params: 0\n",
       "Total mult-adds (G): 1.31\n",
       "==========================================================================================\n",
       "Input size (MB): 0.16\n",
       "Forward/backward pass size (MB): 15.19\n",
       "Params size (MB): 51.14\n",
       "Estimated Total Size (MB): 66.49\n",
       "=========================================================================================="
      ]
     },
     "execution_count": 3,
     "metadata": {},
     "output_type": "execute_result"
    }
   ],
   "source": [
    "summary(encoder, (1,1,128,313))"
   ]
  },
  {
   "cell_type": "code",
   "execution_count": 5,
   "metadata": {},
   "outputs": [],
   "source": [
    "decoder = Decoder(\n",
    "    input_size=(128,313),\n",
    "    latent_vec_size=100,\n",
    "    num_input_channels=1,\n",
    "    n_features=64,\n",
    "    extra_layers=0,\n",
    ")"
   ]
  },
  {
   "cell_type": "code",
   "execution_count": 6,
   "metadata": {},
   "outputs": [
    {
     "data": {
      "text/plain": [
       "==========================================================================================\n",
       "Layer (type:depth-idx)                   Output Shape              Param #\n",
       "==========================================================================================\n",
       "Decoder                                  [1, 1, 128, 288]          --\n",
       "├─Sequential: 1-1                        [1, 1024, 4, 9]           --\n",
       "│    └─ConvTranspose2d: 2-1              [1, 1024, 4, 9]           1,638,400\n",
       "│    └─BatchNorm2d: 2-2                  [1, 1024, 4, 9]           2,048\n",
       "│    └─ReLU: 2-3                         [1, 1024, 4, 9]           --\n",
       "├─Sequential: 1-2                        [1, 64, 64, 144]          --\n",
       "│    └─ConvTranspose2d: 2-4              [1, 512, 8, 18]           8,388,608\n",
       "│    └─BatchNorm2d: 2-5                  [1, 512, 8, 18]           1,024\n",
       "│    └─ReLU: 2-6                         [1, 512, 8, 18]           --\n",
       "│    └─ConvTranspose2d: 2-7              [1, 256, 16, 36]          2,097,152\n",
       "│    └─BatchNorm2d: 2-8                  [1, 256, 16, 36]          512\n",
       "│    └─ReLU: 2-9                         [1, 256, 16, 36]          --\n",
       "│    └─ConvTranspose2d: 2-10             [1, 128, 32, 72]          524,288\n",
       "│    └─BatchNorm2d: 2-11                 [1, 128, 32, 72]          256\n",
       "│    └─ReLU: 2-12                        [1, 128, 32, 72]          --\n",
       "│    └─ConvTranspose2d: 2-13             [1, 64, 64, 144]          131,072\n",
       "│    └─BatchNorm2d: 2-14                 [1, 64, 64, 144]          128\n",
       "│    └─ReLU: 2-15                        [1, 64, 64, 144]          --\n",
       "├─Sequential: 1-3                        [1, 64, 64, 144]          --\n",
       "├─Sequential: 1-4                        [1, 1, 128, 288]          --\n",
       "│    └─ConvTranspose2d: 2-16             [1, 1, 128, 288]          1,024\n",
       "│    └─Tanh: 2-17                        [1, 1, 128, 288]          --\n",
       "==========================================================================================\n",
       "Total params: 12,784,512\n",
       "Trainable params: 12,784,512\n",
       "Non-trainable params: 0\n",
       "Total mult-adds (G): 4.93\n",
       "==========================================================================================\n",
       "Input size (MB): 0.00\n",
       "Forward/backward pass size (MB): 18.58\n",
       "Params size (MB): 51.14\n",
       "Estimated Total Size (MB): 69.72\n",
       "=========================================================================================="
      ]
     },
     "execution_count": 6,
     "metadata": {},
     "output_type": "execute_result"
    }
   ],
   "source": [
    "summary(decoder, (1, 100, 1, 6))"
   ]
  },
  {
   "cell_type": "code",
   "execution_count": 7,
   "metadata": {},
   "outputs": [],
   "source": [
    "ganomaly_model = GanomalyModel(\n",
    "    input_size=(128,313),\n",
    "    latent_vec_size=100,\n",
    "    num_input_channels=1,\n",
    "    n_features=64,\n",
    "    extra_layers=0,\n",
    "    add_final_conv_layer=True,\n",
    ")"
   ]
  },
  {
   "cell_type": "code",
   "execution_count": 11,
   "metadata": {},
   "outputs": [
    {
     "data": {
      "text/plain": [
       "===============================================================================================\n",
       "Layer (type:depth-idx)                        Output Shape              Param #\n",
       "===============================================================================================\n",
       "GanomalyModel                                 [169]                     --\n",
       "├─Generator: 1-1                              [1, 1, 512, 512]          --\n",
       "│    └─Encoder: 2-1                           [1, 100, 13, 13]          --\n",
       "│    │    └─Sequential: 3-1                   [1, 64, 259, 259]         1,024\n",
       "│    │    └─Sequential: 3-2                   [1, 64, 259, 259]         --\n",
       "│    │    └─Sequential: 3-3                   [1, 1024, 16, 16]         11,144,960\n",
       "│    │    └─Conv2d: 3-4                       [1, 100, 13, 13]          1,638,400\n",
       "│    └─Decoder: 2-2                           [1, 1, 512, 512]          --\n",
       "│    │    └─Sequential: 3-5                   [1, 1024, 16, 16]         1,640,448\n",
       "│    │    └─Sequential: 3-6                   [1, 64, 256, 256]         11,143,040\n",
       "│    │    └─Sequential: 3-7                   [1, 64, 256, 256]         --\n",
       "│    │    └─Sequential: 3-8                   [1, 1, 512, 512]          1,024\n",
       "│    └─Encoder: 2-3                           [1, 100, 13, 13]          --\n",
       "│    │    └─Sequential: 3-9                   [1, 64, 259, 259]         1,024\n",
       "│    │    └─Sequential: 3-10                  [1, 64, 259, 259]         --\n",
       "│    │    └─Sequential: 3-11                  [1, 1024, 16, 16]         11,144,960\n",
       "│    │    └─Conv2d: 3-12                      [1, 100, 13, 13]          1,638,400\n",
       "├─Discriminator: 1-2                          --                        --\n",
       "│    └─Sequential: 2-4                        --                        --\n",
       "│    │    └─Conv2d: 3-13                      --                        1,024\n",
       "│    │    └─LeakyReLU: 3-14                   --                        --\n",
       "│    │    └─Conv2d: 3-15                      --                        131,072\n",
       "│    │    └─BatchNorm2d: 3-16                 --                        256\n",
       "│    │    └─LeakyReLU: 3-17                   --                        --\n",
       "│    │    └─Conv2d: 3-18                      --                        524,288\n",
       "│    │    └─BatchNorm2d: 3-19                 --                        512\n",
       "│    │    └─LeakyReLU: 3-20                   --                        --\n",
       "│    │    └─Conv2d: 3-21                      --                        2,097,152\n",
       "│    │    └─BatchNorm2d: 3-22                 --                        1,024\n",
       "│    │    └─LeakyReLU: 3-23                   --                        --\n",
       "│    │    └─Conv2d: 3-24                      --                        8,388,608\n",
       "│    │    └─BatchNorm2d: 3-25                 --                        2,048\n",
       "│    │    └─LeakyReLU: 3-26                   --                        --\n",
       "│    └─Sequential: 2-5                        --                        --\n",
       "│    │    └─Conv2d: 3-27                      --                        16,384\n",
       "│    │    └─Sigmoid: 3-28                     --                        --\n",
       "===============================================================================================\n",
       "Total params: 49,515,648\n",
       "Trainable params: 49,515,648\n",
       "Non-trainable params: 0\n",
       "Total mult-adds (G): 52.99\n",
       "===============================================================================================\n",
       "Input size (MB): 0.16\n",
       "Forward/backward pass size (MB): 327.96\n",
       "Params size (MB): 198.06\n",
       "Estimated Total Size (MB): 526.19\n",
       "==============================================================================================="
      ]
     },
     "execution_count": 11,
     "metadata": {},
     "output_type": "execute_result"
    }
   ],
   "source": [
    "summary(ganomaly_model, (1,1,128,313))"
   ]
  }
 ],
 "metadata": {
  "kernelspec": {
   "display_name": "Python 3.9.12 ('skku')",
   "language": "python",
   "name": "python3"
  },
  "language_info": {
   "codemirror_mode": {
    "name": "ipython",
    "version": 3
   },
   "file_extension": ".py",
   "mimetype": "text/x-python",
   "name": "python",
   "nbconvert_exporter": "python",
   "pygments_lexer": "ipython3",
   "version": "3.9.12"
  },
  "orig_nbformat": 4,
  "vscode": {
   "interpreter": {
    "hash": "4025513d903642cf920b1f01dca47a20be3743371605dfcd2c628f9713bafe2e"
   }
  }
 },
 "nbformat": 4,
 "nbformat_minor": 2
}
